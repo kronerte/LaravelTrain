{
 "cells": [
  {
   "cell_type": "code",
   "execution_count": 2,
   "metadata": {},
   "outputs": [],
   "source": [
    "#import matplotlib.pyplot as plt\n",
    "import random as rd\n",
    "#from time import time"
   ]
  },
  {
   "cell_type": "code",
   "execution_count": 3,
   "metadata": {},
   "outputs": [],
   "source": [
    "def generateList(taille,Imin ,Imax):\n",
    "    \"\"\"fonction permettant de générer aléatoirement une liste d'entier\n",
    "    Arguments:\n",
    "    taille : taille de la liste\n",
    "    Imin   : valeur minimale des éléments de la liste\n",
    "    Imax   : valeur maximale des éléments de la liste\n",
    "    Return:\n",
    "    liste  : liste d'entier\"\"\"\n",
    "    liste = []\n",
    "    for i in range(taille):\n",
    "        liste.append(rd.randint(Imin,Imax))\n",
    "    return liste"
   ]
  },
  {
   "cell_type": "code",
   "execution_count": 6,
   "metadata": {},
   "outputs": [
    {
     "name": "stdout",
     "output_type": "stream",
     "text": [
      "[31, 6, 79, 98, 73, 99, 50, 32, 3, 32, 24, 10, 74, 42, 73, 74, 3, 62, 40, 36, 95, 70, 68, 87, 55, 55, 93, 75, 46, 18, 64, 8, 58, 81, 64, 92, 52, 15, 33, 58, 51, 88, 1, 80, 1, 62, 66, 61, 53, 95, 71, 38, 65, 52, 1, 31, 12, 54, 90, 3, 20, 82, 46, 47, 64, 49, 26, 86, 32, 16, 75, 22, 34, 89, 64, 30, 58, 91, 55, 69, 22, 26, 50, 28, 41, 17, 33, 92, 39, 4, 67, 72, 47, 54, 31, 44, 14, 77, 0, 98, 28, 70, 37, 12, 48, 86, 79, 95, 57, 24, 26, 61, 45, 66, 52, 36, 15, 20, 77, 71, 12, 4, 22, 60, 6, 47, 22, 86, 53, 57, 2, 34, 12, 32, 79, 70, 38, 62, 65, 10, 94, 61, 53, 37, 59, 60, 90, 18, 15, 75, 20, 89, 69, 2, 56, 10, 65, 30, 24, 22, 61, 80, 16, 19, 18, 86, 9, 94, 42, 88, 12, 52, 3, 6, 36, 27, 86, 51, 85, 18, 84, 25, 87, 100, 77, 62, 19, 34, 77, 47, 99, 65, 5, 81, 58, 80, 86, 5, 52, 31]\n"
     ]
    }
   ],
   "source": [
    "liste = generateList(200,0,100)\n",
    "print(liste)"
   ]
  },
  {
   "cell_type": "code",
   "execution_count": 6,
   "metadata": {},
   "outputs": [],
   "source": [
    "def affichageListe(liste):\n",
    "    X = []\n",
    "    for i in range(len(liste)):\n",
    "        X.append(i)\n",
    "    plt.bar(X, liste,1)\n",
    "    plt.xlabel('valeurs')\n",
    "    plt.ylabel('nombres')\n",
    "    plt.title('Exemple d\\' histogramme simple')\n",
    "    "
   ]
  },
  {
   "cell_type": "code",
   "execution_count": 7,
   "metadata": {},
   "outputs": [
    {
     "data": {
      "image/png": "[encoded data removed]",
      "text/plain": [
       "<matplotlib.figure.Figure at 0x7fb5884f9650>"
      ]
     },
     "metadata": {},
     "output_type": "display_data"
    }
   ],
   "source": [
    "affichageListe(liste)"
   ]
  },
  {
   "cell_type": "code",
   "execution_count": 10,
   "metadata": {},
   "outputs": [],
   "source": [
    "def trieInsert(liste):\n",
    "    n = len(liste)\n",
    "    for i in range(1,n):\n",
    "        elem = liste[i]\n",
    "        j = i-1\n",
    "        while(j>=0 and liste[j]>elem):\n",
    "            liste[j+1] = liste[j]\n",
    "            j -= 1\n",
    "        liste[j+1] = elem\n",
    "    plt.show()\n",
    "    \n",
    "        "
   ]
  },
  {
   "cell_type": "code",
   "execution_count": 11,
   "metadata": {},
   "outputs": [
    {
     "name": "stdout",
     "output_type": "stream",
     "text": [
      "[79, 82, 23, 57, 1, 74, 89, 80, 37, 59, 11, 78, 95, 44, 61, 78, 18, 49, 91, 29, 55, 61, 77, 64, 18, 16, 64, 11, 45, 63, 64, 26, 65, 98, 2, 29, 70, 3, 75, 26, 55, 45, 29, 46, 77, 59, 72, 60, 60, 17, 60, 48, 47, 46, 99, 75, 22, 9, 65, 44, 75, 17, 68, 31, 63, 74, 58, 92, 44, 60, 22, 17, 77, 25, 20, 49, 73, 59, 55, 16, 69, 88, 10, 53, 38, 90, 48, 8, 3, 96, 75, 18, 99, 84, 29, 22, 3, 21, 2, 0, 34, 86, 37, 9, 28, 6, 8, 97, 32, 86, 67, 54, 85, 31, 94, 82, 50, 100, 84, 30, 2, 79, 35, 36, 6, 74, 13, 2, 11, 20, 19, 70, 34, 62, 66, 52, 10, 92, 79, 17, 10, 71, 38, 33, 17, 2, 88, 35, 37, 19, 77, 19, 9, 69, 15, 36, 74, 46, 36, 77, 96, 48, 98, 6, 98, 42, 28, 68, 16, 87, 48, 14, 44, 67, 95, 77, 36, 5, 39, 46, 7, 28, 81, 40, 37, 74, 26, 81, 0, 0, 20, 36, 86, 77, 46, 8, 0, 38, 99, 81]\n",
      "[0, 0, 0, 0, 1, 2, 2, 2, 2, 2, 3, 3, 3, 5, 6, 6, 6, 7, 8, 8, 8, 9, 9, 9, 10, 10, 10, 11, 11, 11, 13, 14, 15, 16, 16, 16, 17, 17, 17, 17, 17, 18, 18, 18, 19, 19, 19, 20, 20, 20, 21, 22, 22, 22, 23, 25, 26, 26, 26, 28, 28, 28, 29, 29, 29, 29, 30, 31, 31, 32, 33, 34, 34, 35, 35, 36, 36, 36, 36, 36, 37, 37, 37, 37, 38, 38, 38, 39, 40, 42, 44, 44, 44, 44, 45, 45, 46, 46, 46, 46, 46, 47, 48, 48, 48, 48, 49, 49, 50, 52, 53, 54, 55, 55, 55, 57, 58, 59, 59, 59, 60, 60, 60, 60, 61, 61, 62, 63, 63, 64, 64, 64, 65, 65, 66, 67, 67, 68, 68, 69, 69, 70, 70, 71, 72, 73, 74, 74, 74, 74, 74, 75, 75, 75, 75, 77, 77, 77, 77, 77, 77, 77, 78, 78, 79, 79, 79, 80, 81, 81, 81, 82, 82, 84, 84, 85, 86, 86, 86, 87, 88, 88, 89, 90, 91, 92, 92, 94, 95, 95, 96, 96, 97, 98, 98, 98, 99, 99, 99, 100]\n"
     ]
    }
   ],
   "source": [
    "liste = generateList(200,0,100)\n",
    "print(liste)\n",
    "trieInsert(liste)\n",
    "print(liste)"
   ]
  },
  {
   "cell_type": "code",
   "execution_count": 3,
   "metadata": {},
   "outputs": [],
   "source": [
    "def trieInsertP(liste,iDebut, iFin):\n",
    " \n",
    "    for i in range(iDebut +1,iFin):\n",
    "        elem = liste[i]\n",
    "        j = i-1\n",
    "        while(j>=iDebut and liste[j]>elem):\n",
    "            liste[j+1] = liste[j]\n",
    "            j -= 1\n",
    "        liste[j+1] = elem\n",
    "    plt.show()\n",
    "    "
   ]
  },
  {
   "cell_type": "code",
   "execution_count": 4,
   "metadata": {},
   "outputs": [],
   "source": [
    "def trieFusion(liste):\n",
    "    n = len(liste)\n",
    "    trieFusionRec(liste,0,n)"
   ]
  },
  {
   "cell_type": "code",
   "execution_count": 5,
   "metadata": {},
   "outputs": [],
   "source": [
    "def trieFusionRec(liste, iDebut, iFin):\n",
    "    if (iFin-iDebut>1):\n",
    "        if (iFin-iDebut>60):\n",
    "            iMilieu = (iDebut+iFin)//2\n",
    "            trieFusionRec(liste,iDebut,iMilieu)\n",
    "            trieFusionRec(liste,iMilieu,iFin)\n",
    "            fusion(liste,iDebut,iMilieu,iFin)\n",
    "        else:\n",
    "            trieInsertP(liste,iDebut, iFin)"
   ]
  },
  {
   "cell_type": "code",
   "execution_count": 6,
   "metadata": {},
   "outputs": [],
   "source": [
    "def fusion(liste,iDebut,iMilieu,iFin):\n",
    "    id1,id2 = iDebut, iMilieu\n",
    "    L = []\n",
    "    while(id1<iMilieu and id2 <iFin):\n",
    "        if liste[id1]<= liste[id2]:\n",
    "            L.append(liste[id1])\n",
    "            id1+=1\n",
    "        else:\n",
    "            L.append(liste[id2])\n",
    "            id2+=1\n",
    "    if(id1<iMilieu):\n",
    "        L.extend(liste[id1:iMilieu])\n",
    "    else:\n",
    "        L.extend(liste[id2:iFin])\n",
    "        \n",
    "    for i in range(iDebut,iFin):\n",
    "        liste[i] = L[i-iDebut]\n",
    "            \n",
    "            "
   ]
  },
  {
   "cell_type": "code",
   "execution_count": 21,
   "metadata": {},
   "outputs": [],
   "source": [
    "def trieInsertPIndirect(liste,valeurs,iDebut, iFin):\n",
    " \n",
    "    for i in range(iDebut +1,iFin):\n",
    "        elem = liste[i]\n",
    "        elemV = valeurs[i]\n",
    "        j = i-1\n",
    "        while(j>=iDebut and valeurs[j]>elemV):\n",
    "            liste[j+1] = liste[j]\n",
    "            valeurs[j+1] = valeurs[j]\n",
    "            j -= 1\n",
    "        liste[j+1] = elem\n",
    "        valeurs[j+1] = elemV"
   ]
  },
  {
   "cell_type": "code",
   "execution_count": 22,
   "metadata": {},
   "outputs": [],
   "source": [
    "def trieFusionIndirect(liste, valeurs):\n",
    "    n = len(liste)\n",
    "    trieFusionRecIndirect(liste,valeurs,0,n)"
   ]
  },
  {
   "cell_type": "code",
   "execution_count": 23,
   "metadata": {},
   "outputs": [],
   "source": [
    "def trieFusionRecIndirect(liste,valeurs, iDebut, iFin):\n",
    "    if (iFin-iDebut>1):\n",
    "        if (iFin-iDebut>60):\n",
    "            iMilieu = (iDebut+iFin)//2\n",
    "            trieFusionRecIndirect(liste,valeurs,iDebut,iMilieu)\n",
    "            trieFusionRecIndirect(liste,valeurs,iMilieu,iFin)\n",
    "            fusionIndirect(liste,valeurs,iDebut,iMilieu,iFin)\n",
    "        else:\n",
    "            trieInsertPIndirect(liste,valeurs,iDebut, iFin)"
   ]
  },
  {
   "cell_type": "code",
   "execution_count": 24,
   "metadata": {},
   "outputs": [],
   "source": [
    "def fusionIndirect(liste,valeurs,iDebut,iMilieu,iFin):\n",
    "    id1,id2 = iDebut, iMilieu\n",
    "    L = []\n",
    "    V = []\n",
    "    while(id1<iMilieu and id2 <iFin):\n",
    "        if valeurs[id1]<= valeurs[id2]:\n",
    "            L.append(liste[id1])\n",
    "            V.append(valeurs[id1])\n",
    "            id1+=1\n",
    "        else:\n",
    "            L.append(liste[id2])\n",
    "            V.append(valeurs[id2])\n",
    "            id2+=1\n",
    "    if(id1<iMilieu):\n",
    "        L.extend(liste[id1:iMilieu])\n",
    "        V.extend(valeurs[id1:iMilieu])\n",
    "    else:\n",
    "        L.extend(liste[id2:iFin])\n",
    "        V.extend(valeurs[id2:iFin])\n",
    "        \n",
    "    for i in range(iDebut,iFin):\n",
    "        liste[i] = L[i-iDebut]\n",
    "        valeurs[i] = V[i-iDebut]"
   ]
  },
  {
   "cell_type": "code",
   "execution_count": 25,
   "metadata": {},
   "outputs": [],
   "source": [
    "def trie(liste):\n",
    "    trieFusion(liste)\n",
    "def trie(liste,valeurs):\n",
    "    trieFusionIndirect(liste,valeurs)"
   ]
  },
  {
   "cell_type": "code",
   "execution_count": null,
   "metadata": {},
   "outputs": [],
   "source": []
  }
 ],
 "metadata": {
  "kernelspec": {
   "display_name": "Python 2",
   "language": "python",
   "name": "python2"
  },
  "language_info": {
   "codemirror_mode": {
    "name": "ipython",
    "version": 2
   },
   "file_extension": ".py",
   "mimetype": "text/x-python",
   "name": "python",
   "nbconvert_exporter": "python",
   "pygments_lexer": "ipython2",
   "version": "2.7.14"
  }
 },
 "nbformat": 4,
 "nbformat_minor": 2
}
